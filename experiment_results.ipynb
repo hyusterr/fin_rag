{
 "cells": [
  {
   "cell_type": "code",
   "execution_count": 1,
   "id": "88bfac86-3361-42c6-a85c-d12a5d45702d",
   "metadata": {},
   "outputs": [],
   "source": [
    "import pandas as np"
   ]
  },
  {
   "cell_type": "code",
   "execution_count": 2,
   "id": "3b517d4b-4a61-48fd-b2a0-161d7b12c212",
   "metadata": {},
   "outputs": [],
   "source": [
    "import pandas as pd \n",
    "import wandb\n",
    "api = wandb.Api()\n",
    "\n",
    "# Project is specified by <entity/project-name>\n",
    "runs = api.runs(\"yushuang/fin.highlight\")"
   ]
  },
  {
   "cell_type": "code",
   "execution_count": 3,
   "id": "eda9e4d2-454e-4d76-b171-2becbd1fed14",
   "metadata": {},
   "outputs": [],
   "source": [
    "run_result = []\n",
    "for run in runs: \n",
    "    # .summary contains the output keys/values for metrics like accuracy.\n",
    "    #  We call ._json_dict to omit large files \n",
    "    this_run_data = dict()\n",
    "    this_run_data.update(run.summary._json_dict)\n",
    "\n",
    "    # .config contains the hyperparameters.\n",
    "    #  We remove special values that start with _.\n",
    "    this_run_data.update(\n",
    "        {k: v for k,v in run.config.items()\n",
    "          if not k.startswith('_')})\n",
    "\n",
    "    # .name is the human-readable name of the run.\n",
    "    this_run_data.update({'name': run.name})\n",
    "\n",
    "    this_run_data.update({'args': ' '.join(run.metadata['args'])})\n",
    "\n",
    "\n",
    "    slot_to_remove = []\n",
    "    for k, v in this_run_data.items():\n",
    "        if type(v) not in [int, str, float, bool]:\n",
    "            slot_to_remove.append(k)\n",
    "    for s in slot_to_remove:\n",
    "        del this_run_data[s]\n",
    "    run_result.append(this_run_data)\n",
    "\n",
    "    \n",
    "runs_df = pd.DataFrame(run_result)\n",
    "# runs_df['_timestamp'] = runs_df['_timestamp'].map(datetime_wrapper)\n",
    "# runs_df.to_csv(\"project.csv\")"
   ]
  },
  {
   "cell_type": "code",
   "execution_count": 4,
   "id": "a2fc8d6c-5389-49e5-9a95-d9adadce2694",
   "metadata": {},
   "outputs": [
    {
     "data": {
      "text/plain": [
       "167    --output_dir ./checkpoints/cnc_train_complex -...\n",
       "168    --output_dir ./checkpoints/cnc_train_complex -...\n",
       "169    --output_dir ./checkpoints/cnc_train_harsh --r...\n",
       "170    --output_dir ./checkpoints/cnc_train_harsh --r...\n",
       "171    --output_dir ./checkpoints/cnc_train_harsh --r...\n",
       "Name: args, dtype: object"
      ]
     },
     "execution_count": 4,
     "metadata": {},
     "output_type": "execute_result"
    }
   ],
   "source": [
    "runs_df.tail()['args']"
   ]
  },
  {
   "cell_type": "code",
   "execution_count": 5,
   "id": "20bc5f0e-a95a-4f1e-92e0-866787a0fbe3",
   "metadata": {},
   "outputs": [],
   "source": [
    "def check_if_resume_from_checkpoints(args_str):\n",
    "    args = args_str.split()\n",
    "    # print(args)\n",
    "    if '--resume_from_checkpoint' in args:\n",
    "        return True\n",
    "    else:\n",
    "        return False"
   ]
  },
  {
   "cell_type": "code",
   "execution_count": 6,
   "id": "c23f7a3e-a181-4022-8402-7479a0e8b48c",
   "metadata": {},
   "outputs": [],
   "source": [
    "runs_df['resume_from_checkpoint'] = runs_df['args'].map(check_if_resume_from_checkpoints)"
   ]
  },
  {
   "cell_type": "code",
   "execution_count": 7,
   "id": "efd7aa73-2e8d-4993-b226-f75d583704eb",
   "metadata": {},
   "outputs": [
    {
     "data": {
      "text/plain": [
       "18"
      ]
     },
     "execution_count": 7,
     "metadata": {},
     "output_type": "execute_result"
    }
   ],
   "source": [
    "sum(runs_df['resume_from_checkpoint'])"
   ]
  },
  {
   "cell_type": "code",
   "execution_count": 8,
   "id": "de0f30f1-ec78-4fff-be95-2b61b072e03b",
   "metadata": {},
   "outputs": [],
   "source": [
    "columns_to_use = [\n",
    "    'name',\n",
    "    'metric_for_best_model',\n",
    "    '_timestamp'\n",
    "]\n",
    "metrics_names = ['f1', 'disorder', 'auprc', 'r_precision']\n",
    "for m in metrics_names:\n",
    "    for col in runs_df.columns:\n",
    "        if m in col:\n",
    "            columns_to_use.append(col)"
   ]
  },
  {
   "cell_type": "code",
   "execution_count": 14,
   "id": "be767e21-a128-4b3e-af44-078879a333ad",
   "metadata": {},
   "outputs": [],
   "source": [
    "show_metrics = ['disorder', 'f1', 'auprc', 'r_precision']\n",
    "mbm_metrics = 'valid_f1'\n",
    "\n",
    "def datetime_wrapper(integar):\n",
    "    return pd.to_datetime(integar, utc=True, unit='s').strftime('%Y%m%d %H:%M:%S')\n",
    "\n",
    "show_columns = ['name', 'metric_for_best_model']#, 'greater_is_better']\n",
    "for show_metric in show_metrics:\n",
    "    for split in ['train', 'valid', 'test', 'expert']:\n",
    "        show_columns.append(f'eval/{split}_{show_metric}')\n",
    "show_columns.append('_timestamp')\n",
    "tmp = runs_df[show_columns].copy().dropna()\n",
    "tmp['_timestamp'] = tmp['_timestamp'].map(datetime_wrapper)\n",
    "tmp[tmp['metric_for_best_model'] == mbm_metrics].to_csv('disorder.csv')"
   ]
  },
  {
   "cell_type": "code",
   "execution_count": 10,
   "id": "03840cd8-d05a-425d-8a67-53c553dd9a8e",
   "metadata": {
    "scrolled": true
   },
   "outputs": [
    {
     "data": {
      "text/html": [
       "<div>\n",
       "<style scoped>\n",
       "    .dataframe tbody tr th:only-of-type {\n",
       "        vertical-align: middle;\n",
       "    }\n",
       "\n",
       "    .dataframe tbody tr th {\n",
       "        vertical-align: top;\n",
       "    }\n",
       "\n",
       "    .dataframe thead th {\n",
       "        text-align: right;\n",
       "    }\n",
       "</style>\n",
       "<table border=\"1\" class=\"dataframe\">\n",
       "  <thead>\n",
       "    <tr style=\"text-align: right;\">\n",
       "      <th></th>\n",
       "      <th>name</th>\n",
       "      <th>metric_for_best_model</th>\n",
       "      <th>eval/train_f1</th>\n",
       "      <th>eval/valid_f1</th>\n",
       "      <th>eval/test_f1</th>\n",
       "      <th>eval/expert_f1</th>\n",
       "      <th>_timestamp</th>\n",
       "    </tr>\n",
       "  </thead>\n",
       "  <tbody>\n",
       "    <tr>\n",
       "      <th>34</th>\n",
       "      <td>iterate_strict-naive</td>\n",
       "      <td>valid_disorder</td>\n",
       "      <td>0.373957</td>\n",
       "      <td>0.398229</td>\n",
       "      <td>0.318602</td>\n",
       "      <td>0.268590</td>\n",
       "      <td>20250408 02:11:21</td>\n",
       "    </tr>\n",
       "    <tr>\n",
       "      <th>43</th>\n",
       "      <td>iterate_strict-loose</td>\n",
       "      <td>valid_disorder</td>\n",
       "      <td>0.735642</td>\n",
       "      <td>0.476599</td>\n",
       "      <td>0.399477</td>\n",
       "      <td>0.325784</td>\n",
       "      <td>20250408 07:01:03</td>\n",
       "    </tr>\n",
       "    <tr>\n",
       "      <th>52</th>\n",
       "      <td>iterate_naive-strict</td>\n",
       "      <td>valid_disorder</td>\n",
       "      <td>0.226073</td>\n",
       "      <td>0.316474</td>\n",
       "      <td>0.234557</td>\n",
       "      <td>0.202150</td>\n",
       "      <td>20250408 13:14:59</td>\n",
       "    </tr>\n",
       "    <tr>\n",
       "      <th>73</th>\n",
       "      <td>iterate_naive-loose</td>\n",
       "      <td>valid_disorder</td>\n",
       "      <td>0.712860</td>\n",
       "      <td>0.482212</td>\n",
       "      <td>0.394925</td>\n",
       "      <td>0.342112</td>\n",
       "      <td>20250408 23:57:41</td>\n",
       "    </tr>\n",
       "    <tr>\n",
       "      <th>91</th>\n",
       "      <td>iterate_loose-strict</td>\n",
       "      <td>valid_disorder</td>\n",
       "      <td>0.325357</td>\n",
       "      <td>0.406611</td>\n",
       "      <td>0.321409</td>\n",
       "      <td>0.295933</td>\n",
       "      <td>20250409 05:08:44</td>\n",
       "    </tr>\n",
       "    <tr>\n",
       "      <th>103</th>\n",
       "      <td>iterate_loose-naive</td>\n",
       "      <td>valid_disorder</td>\n",
       "      <td>0.375625</td>\n",
       "      <td>0.389596</td>\n",
       "      <td>0.307129</td>\n",
       "      <td>0.255295</td>\n",
       "      <td>20250409 09:53:56</td>\n",
       "    </tr>\n",
       "  </tbody>\n",
       "</table>\n",
       "</div>"
      ],
      "text/plain": [
       "                     name metric_for_best_model  eval/train_f1  eval/valid_f1  \\\n",
       "34   iterate_strict-naive        valid_disorder       0.373957       0.398229   \n",
       "43   iterate_strict-loose        valid_disorder       0.735642       0.476599   \n",
       "52   iterate_naive-strict        valid_disorder       0.226073       0.316474   \n",
       "73    iterate_naive-loose        valid_disorder       0.712860       0.482212   \n",
       "91   iterate_loose-strict        valid_disorder       0.325357       0.406611   \n",
       "103   iterate_loose-naive        valid_disorder       0.375625       0.389596   \n",
       "\n",
       "     eval/test_f1  eval/expert_f1         _timestamp  \n",
       "34       0.318602        0.268590  20250408 02:11:21  \n",
       "43       0.399477        0.325784  20250408 07:01:03  \n",
       "52       0.234557        0.202150  20250408 13:14:59  \n",
       "73       0.394925        0.342112  20250408 23:57:41  \n",
       "91       0.321409        0.295933  20250409 05:08:44  \n",
       "103      0.307129        0.255295  20250409 09:53:56  "
      ]
     },
     "execution_count": 10,
     "metadata": {},
     "output_type": "execute_result"
    }
   ],
   "source": [
    "show_metric = 'f1'\n",
    "mbm_metrics = 'valid_disorder'\n",
    "\n",
    "def datetime_wrapper(integar):\n",
    "    return pd.to_datetime(integar, utc=True, unit='s').strftime('%Y%m%d %H:%M:%S')\n",
    "\n",
    "show_columns = ['name', 'metric_for_best_model']#, 'greater_is_better']\n",
    "for split in ['train', 'valid', 'test', 'expert']:\n",
    "    show_columns.append(f'eval/{split}_{show_metric}')\n",
    "show_columns.append('_timestamp')\n",
    "tmp = runs_df[runs_df['resume_from_checkpoint'] == True][show_columns].copy().dropna()\n",
    "tmp['_timestamp'] = tmp['_timestamp'].map(datetime_wrapper)\n",
    "tmp[tmp['metric_for_best_model'] == mbm_metrics]"
   ]
  },
  {
   "cell_type": "code",
   "execution_count": 11,
   "id": "1de0a761-3ee3-4c62-8dbd-6be146a060e7",
   "metadata": {},
   "outputs": [
    {
     "data": {
      "text/html": [
       "<div>\n",
       "<style scoped>\n",
       "    .dataframe tbody tr th:only-of-type {\n",
       "        vertical-align: middle;\n",
       "    }\n",
       "\n",
       "    .dataframe tbody tr th {\n",
       "        vertical-align: top;\n",
       "    }\n",
       "\n",
       "    .dataframe thead th {\n",
       "        text-align: right;\n",
       "    }\n",
       "</style>\n",
       "<table border=\"1\" class=\"dataframe\">\n",
       "  <thead>\n",
       "    <tr style=\"text-align: right;\">\n",
       "      <th></th>\n",
       "      <th>name</th>\n",
       "    </tr>\n",
       "  </thead>\n",
       "  <tbody>\n",
       "    <tr>\n",
       "      <th>27</th>\n",
       "      <td>iterate_strict-naive</td>\n",
       "    </tr>\n",
       "    <tr>\n",
       "      <th>28</th>\n",
       "      <td>iterate_strict-naive</td>\n",
       "    </tr>\n",
       "    <tr>\n",
       "      <th>30</th>\n",
       "      <td>iterate_strict-naive</td>\n",
       "    </tr>\n",
       "    <tr>\n",
       "      <th>31</th>\n",
       "      <td>iterate_strict-naive</td>\n",
       "    </tr>\n",
       "    <tr>\n",
       "      <th>33</th>\n",
       "      <td>iterate_strict-naive</td>\n",
       "    </tr>\n",
       "    <tr>\n",
       "      <th>34</th>\n",
       "      <td>iterate_strict-naive</td>\n",
       "    </tr>\n",
       "  </tbody>\n",
       "</table>\n",
       "</div>"
      ],
      "text/plain": [
       "                    name\n",
       "27  iterate_strict-naive\n",
       "28  iterate_strict-naive\n",
       "30  iterate_strict-naive\n",
       "31  iterate_strict-naive\n",
       "33  iterate_strict-naive\n",
       "34  iterate_strict-naive"
      ]
     },
     "execution_count": 11,
     "metadata": {},
     "output_type": "execute_result"
    }
   ],
   "source": [
    "runs_df[runs_df['name'] == 'iterate_strict-naive'][['name']]"
   ]
  }
 ],
 "metadata": {
  "kernelspec": {
   "display_name": "Python 3 (ipykernel)",
   "language": "python",
   "name": "python3"
  },
  "language_info": {
   "codemirror_mode": {
    "name": "ipython",
    "version": 3
   },
   "file_extension": ".py",
   "mimetype": "text/x-python",
   "name": "python",
   "nbconvert_exporter": "python",
   "pygments_lexer": "ipython3",
   "version": "3.10.12"
  }
 },
 "nbformat": 4,
 "nbformat_minor": 5
}
